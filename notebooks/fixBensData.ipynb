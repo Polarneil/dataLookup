{
 "cells": [
  {
   "cell_type": "code",
   "execution_count": 86,
   "id": "initial_id",
   "metadata": {
    "collapsed": true,
    "ExecuteTime": {
     "end_time": "2025-01-09T21:00:33.509653Z",
     "start_time": "2025-01-09T21:00:33.506892Z"
    }
   },
   "outputs": [],
   "source": [
    "import pandas as pd"
   ]
  },
  {
   "cell_type": "markdown",
   "source": [
    "CSV to Pandas DataFrame"
   ],
   "metadata": {
    "collapsed": false
   },
   "id": "fd18470387385fd4"
  },
  {
   "cell_type": "code",
   "outputs": [],
   "source": [
    "df = pd.read_csv('../data/BenExcelStuff.csv', header=None)"
   ],
   "metadata": {
    "collapsed": false,
    "ExecuteTime": {
     "end_time": "2025-01-09T21:00:33.748474Z",
     "start_time": "2025-01-09T21:00:33.744966Z"
    }
   },
   "id": "53050a590d95846c",
   "execution_count": 87
  },
  {
   "cell_type": "code",
   "outputs": [],
   "source": [
    "df"
   ],
   "metadata": {
    "collapsed": false
   },
   "id": "6cfb52db4535ec2f",
   "execution_count": null
  },
  {
   "cell_type": "markdown",
   "source": [
    "Drop completely blank rows"
   ],
   "metadata": {
    "collapsed": false
   },
   "id": "987d1df65f0c42f1"
  },
  {
   "cell_type": "code",
   "outputs": [],
   "source": [
    "df = df.dropna(how='all')\n",
    "\n",
    "# Promote the first non-blank row to the header\n",
    "df.columns = df.iloc[0] # Set the first row as the header\n",
    "df = df[1:].reset_index(drop=True) # Drop the first row and reset index"
   ],
   "metadata": {
    "collapsed": false,
    "ExecuteTime": {
     "end_time": "2025-01-09T21:00:34.140022Z",
     "start_time": "2025-01-09T21:00:34.137337Z"
    }
   },
   "id": "65e0f84b4bdee4c6",
   "execution_count": 89
  },
  {
   "cell_type": "code",
   "outputs": [],
   "source": [
    "df"
   ],
   "metadata": {
    "collapsed": false
   },
   "id": "b09e0e4c3bb4380b",
   "execution_count": null
  },
  {
   "cell_type": "markdown",
   "source": [
    "Rename duplicate columns"
   ],
   "metadata": {
    "collapsed": false
   },
   "id": "fdcbc1c6de894872"
  },
  {
   "cell_type": "code",
   "outputs": [],
   "source": [
    "df.columns = [f\"{col}_{i}\" if col in df.columns[:i] else col for i, col in enumerate(df.columns)]"
   ],
   "metadata": {
    "collapsed": false,
    "ExecuteTime": {
     "end_time": "2025-01-09T21:00:34.762851Z",
     "start_time": "2025-01-09T21:00:34.759392Z"
    }
   },
   "id": "c17ced86592e27b4",
   "execution_count": 91
  },
  {
   "cell_type": "code",
   "outputs": [],
   "source": [
    "df"
   ],
   "metadata": {
    "collapsed": false
   },
   "id": "a0a7dada6b2c4b2",
   "execution_count": null
  },
  {
   "cell_type": "markdown",
   "source": [
    "Identify target columns"
   ],
   "metadata": {
    "collapsed": false
   },
   "id": "96c0b2a30e99da88"
  },
  {
   "cell_type": "code",
   "outputs": [],
   "source": [
    "search_string = \"Number\"\n",
    "\n",
    "duplicate_columns = df.columns[df.columns.str.contains(search_string, case=False, na=False)]\n",
    "\n",
    "duplicate_columns = [x for x in duplicate_columns if len(x.split()) < 2]\n",
    "\n",
    "duplicate_columns"
   ],
   "metadata": {
    "collapsed": false
   },
   "id": "8ed6ab6d3956bb9d",
   "execution_count": null
  },
  {
   "cell_type": "markdown",
   "source": [
    "Loop through DataFrame and perform logic"
   ],
   "metadata": {
    "collapsed": false
   },
   "id": "836f3e98e711f0c2"
  },
  {
   "cell_type": "code",
   "outputs": [],
   "source": [
    "matching_rows = []\n",
    "\n",
    "for index, row in df.iterrows():\n",
    "    # Check if the 'Number' value exists in any 'Number_4' value\n",
    "    if pd.notna(row[duplicate_columns[0]]) and df[duplicate_columns[1]].str.contains(row[duplicate_columns[0]]).any():\n",
    "        # If a match is found, add the row to the list\n",
    "        matching_rows.append(row[['Number', 'Number_4', 'Serial Number', 'Status Code', 'Completion Status']])\n",
    "        \n",
    "new_df = pd.DataFrame(matching_rows, columns=['Number', 'Number_4', 'Serial Number', 'Status Code', 'Completion Status'])"
   ],
   "metadata": {
    "collapsed": false,
    "ExecuteTime": {
     "end_time": "2025-01-09T21:02:22.366384Z",
     "start_time": "2025-01-09T21:02:22.359496Z"
    }
   },
   "id": "240074ba81b53b84",
   "execution_count": 98
  },
  {
   "cell_type": "code",
   "outputs": [],
   "source": [
    "new_df"
   ],
   "metadata": {
    "collapsed": false
   },
   "id": "dc49b1454468e370",
   "execution_count": null
  }
 ],
 "metadata": {
  "kernelspec": {
   "display_name": "Python 3",
   "language": "python",
   "name": "python3"
  },
  "language_info": {
   "codemirror_mode": {
    "name": "ipython",
    "version": 2
   },
   "file_extension": ".py",
   "mimetype": "text/x-python",
   "name": "python",
   "nbconvert_exporter": "python",
   "pygments_lexer": "ipython2",
   "version": "2.7.6"
  }
 },
 "nbformat": 4,
 "nbformat_minor": 5
}
